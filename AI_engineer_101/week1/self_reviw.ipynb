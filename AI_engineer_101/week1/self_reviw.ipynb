{
 "cells": [
  {
   "cell_type": "code",
   "execution_count": 1,
   "id": "7bcba825",
   "metadata": {},
   "outputs": [
    {
     "name": "stdout",
     "output_type": "stream",
     "text": [
      "3.11.4 | packaged by Anaconda, Inc. | (main, Jul  5 2023, 13:38:37) [MSC v.1916 64 bit (AMD64)]\n"
     ]
    }
   ],
   "source": [
    "import sys\n",
    "\n",
    "print(sys.version)"
   ]
  },
  {
   "cell_type": "code",
   "execution_count": 20,
   "id": "6668300d",
   "metadata": {},
   "outputs": [
    {
     "name": "stdout",
     "output_type": "stream",
     "text": [
      "(370, 5)\n",
      "<bound method NDFrame.describe of                                       COMMENT_ID  \\\n",
      "0            z13lgffb5w3ddx1ul22qy1wxspy5cpkz504   \n",
      "1              z123dbgb0mqjfxbtz22ucjc5jvzcv3ykj   \n",
      "2          z12quxxp2vutflkxv04cihggzt2azl34pms0k   \n",
      "3              z12icv3ysqvlwth2c23eddlykyqut5z1h   \n",
      "4              z133stly3kete3tly22petvwdpmghrlli   \n",
      "..                                           ...   \n",
      "365  _2viQ_Qnc6-bMSjqyL1NKj57ROicCSJV5SwTrw-RFFA   \n",
      "366  _2viQ_Qnc6-pY-1yR6K2FhmC5i48-WuNx5CumlHLDAI   \n",
      "367  _2viQ_Qnc6_k_n_Bse9zVhJP8tJReZpo8uM2uZfnzDs   \n",
      "368  _2viQ_Qnc6_yBt8UGMWyg3vh0PulTqcqyQtdE7d4Fl0   \n",
      "369  _2viQ_Qnc685RPw1aSa1tfrIuHXRvAQ2rPT9R06KTqA   \n",
      "\n",
      "                                 AUTHOR                        DATE  \\\n",
      "0                            dharma pal  2015-05-29T02:30:18.971000   \n",
      "1                         Tiza Arellano  2015-05-29T00:14:48.748000   \n",
      "2    Prìñçeśś Âliś Łøvê Dømíñø Mâđiś™ ﻿  2015-05-28T21:00:08.607000   \n",
      "3                         Eric Gonzalez  2015-05-28T20:47:12.193000   \n",
      "4                         Analena López  2015-05-28T17:08:29.827000   \n",
      "..                                  ...                         ...   \n",
      "365                        Katie Mettam  2013-07-13T13:27:39.441000   \n",
      "366                Sabina Pearson-Smith  2013-07-13T13:14:30.021000   \n",
      "367                       jeffrey jules  2013-07-13T12:09:31.188000   \n",
      "368                      Aishlin Maciel  2013-07-13T11:17:52.308000   \n",
      "369                         Latin Bosch  2013-07-12T22:33:27.916000   \n",
      "\n",
      "                                               CONTENT  CLASS  \n",
      "0                                           Nice song﻿      0  \n",
      "1                                        I love song ﻿      0  \n",
      "2                                        I love song ﻿      0  \n",
      "3    860,000,000 lets make it first female to reach...      0  \n",
      "4                        shakira is best for worldcup﻿      0  \n",
      "..                                                 ...    ...  \n",
      "365  I love this song because we sing it at Camp al...      0  \n",
      "366  I love this song for two reasons: 1.it is abou...      0  \n",
      "367                                                wow      0  \n",
      "368                            Shakira u are so wiredo      0  \n",
      "369                         Shakira is the best dancer      0  \n",
      "\n",
      "[370 rows x 5 columns]>\n",
      "\n",
      "\n",
      "\n",
      "The number of comments that mention the song is 80\n"
     ]
    }
   ],
   "source": [
    "import pandas as pd\n",
    "\n",
    "df = pd.read_csv(r'Youtube05-Shakira.csv')\n",
    "print(df.shape)\n",
    "print(df.describe)\n",
    "\n",
    "comment_song = df['CONTENT'].str.contains('song').sum()\n",
    "print('\\n\\n')\n",
    "print('The number of comments that mention the song is '+str(comment_song))"
   ]
  },
  {
   "cell_type": "code",
   "execution_count": null,
   "id": "24372261",
   "metadata": {},
   "outputs": [],
   "source": []
  }
 ],
 "metadata": {
  "kernelspec": {
   "display_name": "Python 3 (ipykernel)",
   "language": "python",
   "name": "python3"
  },
  "language_info": {
   "codemirror_mode": {
    "name": "ipython",
    "version": 3
   },
   "file_extension": ".py",
   "mimetype": "text/x-python",
   "name": "python",
   "nbconvert_exporter": "python",
   "pygments_lexer": "ipython3",
   "version": "3.11.4"
  }
 },
 "nbformat": 4,
 "nbformat_minor": 5
}
